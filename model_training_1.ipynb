{
  "cells": [
    {
      "cell_type": "code",
      "execution_count": null,
      "metadata": {
        "colab": {
          "base_uri": "https://localhost:8080/"
        },
        "id": "SbWiUdqhwP83",
        "outputId": "ae81c119-d021-41fd-fe71-8e79e1805fd3"
      },
      "outputs": [
        {
          "name": "stdout",
          "output_type": "stream",
          "text": [
            "Index(['Domain', 'Have_IP', 'Have_At', 'URL_Length', 'URL_Depth',\n",
            "       'Redirection', 'https_Domain', 'TinyURL', 'Prefix/Suffix', 'DNS_Record',\n",
            "       'Web_Traffic', 'Domain_Age', 'Domain_End', 'iFrame', 'Mouse_Over',\n",
            "       'Right_Click', 'Web_Forwards', 'Label'],\n",
            "      dtype='object')\n",
            "Confusion Matrix:\n",
            "[[2790   58]\n",
            " [ 450  562]]\n",
            "\n",
            "Classification Report:\n",
            "              precision    recall  f1-score   support\n",
            "\n",
            "           0       0.86      0.98      0.92      2848\n",
            "           1       0.91      0.56      0.69      1012\n",
            "\n",
            "    accuracy                           0.87      3860\n",
            "   macro avg       0.88      0.77      0.80      3860\n",
            "weighted avg       0.87      0.87      0.86      3860\n",
            "\n"
          ]
        },
        {
          "data": {
            "text/plain": [
              "['feature_list.pkl']"
            ]
          },
          "execution_count": 14,
          "metadata": {},
          "output_type": "execute_result"
        }
      ],
      "source": [
        "import pandas as pd\n",
        "import re\n",
        "from urllib.parse import urlparse\n",
        "from sklearn.model_selection import train_test_split\n",
        "from sklearn.tree import DecisionTreeClassifier\n",
        "from sklearn.metrics import classification_report, confusion_matrix\n",
        "\n",
        "# Load data\n",
        "df = pd.read_csv(\"phishing_url.csv\")\n",
        "\n",
        "# Sanity check: view columns\n",
        "print(df.columns)\n",
        "\n",
        "# Example assumption: URL is under 'url' column, label is under 'Label'\n",
        "# If the column is named differently, rename it:\n",
        "if 'url' not in df.columns:\n",
        "    df.rename(columns={df.columns[0]: 'url'}, inplace=True)\n",
        "\n",
        "# Drop any rows with missing labels\n",
        "df = df.dropna(subset=['url', 'Label'])\n",
        "\n",
        "# -------- Feature Extraction Function --------\n",
        "def extract_url_features(url):\n",
        "    parsed = urlparse(url)\n",
        "    features = {\n",
        "        'url_length': len(url),\n",
        "        'num_dots': url.count('.'),\n",
        "        'https_flag': 1 if parsed.scheme == 'https' else 0,\n",
        "        'num_subdirs': url.count('/') - 2,\n",
        "        'num_special_chars': sum(url.count(c) for c in ['@', '-', '_', '?', '=', '&']),\n",
        "        'have_ip': 1 if re.search(r'\\d{1,3}(\\.\\d{1,3}){3}', url) else 0\n",
        "    }\n",
        "    return features\n",
        "\n",
        "# Apply feature extraction\n",
        "features_df = df['url'].apply(extract_url_features).apply(pd.Series)\n",
        "\n",
        "# Features and target\n",
        "X = features_df\n",
        "y = df['Label']\n",
        "\n",
        "# -------- Train-Test Split --------\n",
        "X_train, X_test, y_train, y_test = train_test_split(X, y, test_size=0.2, random_state=42)\n",
        "\n",
        "# -------- Decision Tree Model --------\n",
        "model = DecisionTreeClassifier(random_state=42)\n",
        "model.fit(X_train, y_train)\n",
        "y_pred = model.predict(X_test)\n",
        "\n",
        "# -------- Evaluation --------\n",
        "print(\"Confusion Matrix:\")\n",
        "print(confusion_matrix(y_test, y_pred))\n",
        "\n",
        "print(\"\\nClassification Report:\")\n",
        "print(classification_report(y_test, y_pred))\n",
        "import joblib\n",
        "\n",
        "# Save the model\n",
        "joblib.dump(model, \"decision_tree_phishing_model.pkl\")\n",
        "\n",
        "#  Save feature list to ensure same input order in Streamlit\n",
        "feature_list = list(X.columns)\n",
        "joblib.dump(feature_list, \"feature_list.pkl\")\n"
      ]
    },
    {
      "cell_type": "code",
      "execution_count": null,
      "metadata": {
        "id": "H3vb4GNGR8nY"
      },
      "outputs": [],
      "source": []
    }
  ],
  "metadata": {
    "colab": {
      "provenance": []
    },
    "kernelspec": {
      "display_name": "Python 3 (ipykernel)",
      "language": "python",
      "name": "python3"
    },
    "language_info": {
      "codemirror_mode": {
        "name": "ipython",
        "version": 3
      },
      "file_extension": ".py",
      "mimetype": "text/x-python",
      "name": "python",
      "nbconvert_exporter": "python",
      "pygments_lexer": "ipython3",
      "version": "3.12.7"
    }
  },
  "nbformat": 4,
  "nbformat_minor": 0
}
